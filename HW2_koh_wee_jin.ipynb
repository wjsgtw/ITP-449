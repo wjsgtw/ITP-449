{
  "nbformat": 4,
  "nbformat_minor": 0,
  "metadata": {
    "colab": {
      "name": "HW2_koh_wee jin.ipynb",
      "provenance": [],
      "collapsed_sections": []
    },
    "kernelspec": {
      "name": "python3",
      "display_name": "Python 3"
    }
  },
  "cells": [
    {
      "cell_type": "markdown",
      "metadata": {
        "id": "bNsIruOzI4iF"
      },
      "source": [
        "## **Homework 2**\n",
        "\n",
        "### Create a copy of the notebook to start answering the questions. Name your notebook in the format HW1_lastname_firstname.ipynb to facilitate the grading process. \n",
        "\n",
        "### Answer all the questions, test your code to ensure there are no errors and the results are as expected. Once you have answered all the questions, save the final copy, then go to File-> click on Download.ipynb. Once the local copy has been downloaded, submit your file on Blackboard under the corresponding assignment section. Also provide us a link to your notebook during submission. \n",
        "\n",
        "### **The due date of this homework is 02/12/2021 (Friday).**\n",
        "\n",
        "### Please ensure you follow all the steps mentioned in the homework.\n",
        "\n",
        "### All the questions have a sample input and output to help you understand the question.\n",
        "\n",
        "### You can submit your solutions any number of times until the deadline.\n"
      ]
    },
    {
      "cell_type": "markdown",
      "metadata": {
        "id": "UOX20ItpytpX"
      },
      "source": [
        "Wee Jin Koh\n",
        "ITP 449 HW2"
      ]
    },
    {
      "cell_type": "markdown",
      "metadata": {
        "id": "U3Yz3s2uio1F"
      },
      "source": [
        "**Q1. Lets consider your data is like the below cell:**\n",
        "\n",
        "**Q1-1**: Write a program that create a dataframe from the data.\n",
        "\n",
        "**Q1-2:** Select people that are psychologist or teacher and their number of cars is greater than their family size.\n",
        "\n",
        "**Q1-3:** Select people who have at most 2 family members and at least 1 car.\n",
        "\n",
        "**Q1-4:** Write a code that get number of unique jobs in this dataset.\n",
        "\n",
        "\n",
        "\n"
      ]
    },
    {
      "cell_type": "code",
      "metadata": {
        "id": "7BjSy8ochg4a"
      },
      "source": [
        "import numpy as np\n",
        "import pandas as pd\n"
      ],
      "execution_count": null,
      "outputs": []
    },
    {
      "cell_type": "code",
      "metadata": {
        "id": "yR8lcOtcjxXD"
      },
      "source": [
        "\n",
        "data = {\"name\": [\"Joseph\", \"Jacob\", \"Sam\", \"Jesee\", \"Ryan\", \"Lisa\", \"Lee\"],\n",
        "        \"job\": [\"teacher\", \"psychologist\", \"data scientist\", \"software developer\", \"psychologist\", \"psychologist\", \"teacher\"],\n",
        "        \"family_size\": [3, 2, 1, 4, 2, 3, 2],\n",
        "        \"num_cars\": [3, 1, 1, 2, 2, 4, 1]}"
      ],
      "execution_count": null,
      "outputs": []
    },
    {
      "cell_type": "code",
      "metadata": {
        "id": "Youi5qMaP34p",
        "colab": {
          "base_uri": "https://localhost:8080/"
        },
        "outputId": "2d6f1c14-0f84-4453-95ca-55632b765cb5"
      },
      "source": [
        "# Type your solution here\n",
        "import pandas as pd\n",
        "#Q1-1\n",
        "frame = pd.DataFrame(data)\n",
        "print(frame)\n"
      ],
      "execution_count": null,
      "outputs": [
        {
          "output_type": "stream",
          "text": [
            "     name                 job  family_size  num_cars\n",
            "0  Joseph             teacher            3         3\n",
            "1   Jacob        psychologist            2         1\n",
            "2     Sam      data scientist            1         1\n",
            "3   Jesee  software developer            4         2\n",
            "4    Ryan        psychologist            2         2\n",
            "5    Lisa        psychologist            3         4\n",
            "6     Lee             teacher            2         1\n"
          ],
          "name": "stdout"
        }
      ]
    },
    {
      "cell_type": "code",
      "metadata": {
        "id": "L0P2lR0xctFv",
        "colab": {
          "base_uri": "https://localhost:8080/",
          "height": 80
        },
        "outputId": "ae9d0dfd-910e-4158-d906-b39c5d7ce6e5"
      },
      "source": [
        "#Q1-2\n",
        "frame[((frame[\"job\"]== \"psychologist\") | (frame[\"job\"]== \"teacher\")) & (frame[\"num_cars\"]> frame[\"family_size\"])]\n"
      ],
      "execution_count": null,
      "outputs": [
        {
          "output_type": "execute_result",
          "data": {
            "text/html": [
              "<div>\n",
              "<style scoped>\n",
              "    .dataframe tbody tr th:only-of-type {\n",
              "        vertical-align: middle;\n",
              "    }\n",
              "\n",
              "    .dataframe tbody tr th {\n",
              "        vertical-align: top;\n",
              "    }\n",
              "\n",
              "    .dataframe thead th {\n",
              "        text-align: right;\n",
              "    }\n",
              "</style>\n",
              "<table border=\"1\" class=\"dataframe\">\n",
              "  <thead>\n",
              "    <tr style=\"text-align: right;\">\n",
              "      <th></th>\n",
              "      <th>name</th>\n",
              "      <th>job</th>\n",
              "      <th>family_size</th>\n",
              "      <th>num_cars</th>\n",
              "    </tr>\n",
              "  </thead>\n",
              "  <tbody>\n",
              "    <tr>\n",
              "      <th>5</th>\n",
              "      <td>Lisa</td>\n",
              "      <td>psychologist</td>\n",
              "      <td>3</td>\n",
              "      <td>4</td>\n",
              "    </tr>\n",
              "  </tbody>\n",
              "</table>\n",
              "</div>"
            ],
            "text/plain": [
              "   name           job  family_size  num_cars\n",
              "5  Lisa  psychologist            3         4"
            ]
          },
          "metadata": {
            "tags": []
          },
          "execution_count": 5
        }
      ]
    },
    {
      "cell_type": "code",
      "metadata": {
        "colab": {
          "base_uri": "https://localhost:8080/",
          "height": 173
        },
        "id": "6aZhNpyOvLeN",
        "outputId": "d42456fe-62b8-487f-9d1c-6ef70724e6b0"
      },
      "source": [
        "#Q1-3\n",
        "frame[(frame[\"family_size\"]<=2) & ( frame[\"num_cars\"]> 0)]\n"
      ],
      "execution_count": null,
      "outputs": [
        {
          "output_type": "execute_result",
          "data": {
            "text/html": [
              "<div>\n",
              "<style scoped>\n",
              "    .dataframe tbody tr th:only-of-type {\n",
              "        vertical-align: middle;\n",
              "    }\n",
              "\n",
              "    .dataframe tbody tr th {\n",
              "        vertical-align: top;\n",
              "    }\n",
              "\n",
              "    .dataframe thead th {\n",
              "        text-align: right;\n",
              "    }\n",
              "</style>\n",
              "<table border=\"1\" class=\"dataframe\">\n",
              "  <thead>\n",
              "    <tr style=\"text-align: right;\">\n",
              "      <th></th>\n",
              "      <th>name</th>\n",
              "      <th>job</th>\n",
              "      <th>family_size</th>\n",
              "      <th>num_cars</th>\n",
              "    </tr>\n",
              "  </thead>\n",
              "  <tbody>\n",
              "    <tr>\n",
              "      <th>1</th>\n",
              "      <td>Jacob</td>\n",
              "      <td>psychologist</td>\n",
              "      <td>2</td>\n",
              "      <td>1</td>\n",
              "    </tr>\n",
              "    <tr>\n",
              "      <th>2</th>\n",
              "      <td>Sam</td>\n",
              "      <td>data scientist</td>\n",
              "      <td>1</td>\n",
              "      <td>1</td>\n",
              "    </tr>\n",
              "    <tr>\n",
              "      <th>4</th>\n",
              "      <td>Ryan</td>\n",
              "      <td>psychologist</td>\n",
              "      <td>2</td>\n",
              "      <td>2</td>\n",
              "    </tr>\n",
              "    <tr>\n",
              "      <th>6</th>\n",
              "      <td>Lee</td>\n",
              "      <td>teacher</td>\n",
              "      <td>2</td>\n",
              "      <td>1</td>\n",
              "    </tr>\n",
              "  </tbody>\n",
              "</table>\n",
              "</div>"
            ],
            "text/plain": [
              "    name             job  family_size  num_cars\n",
              "1  Jacob    psychologist            2         1\n",
              "2    Sam  data scientist            1         1\n",
              "4   Ryan    psychologist            2         2\n",
              "6    Lee         teacher            2         1"
            ]
          },
          "metadata": {
            "tags": []
          },
          "execution_count": 6
        }
      ]
    },
    {
      "cell_type": "code",
      "metadata": {
        "colab": {
          "base_uri": "https://localhost:8080/"
        },
        "id": "1NyiQ29avM5m",
        "outputId": "8b404594-eab9-4e1b-fa9f-0f8b7d83d42d"
      },
      "source": [
        "#Q1-4\n",
        "len(frame.job.unique())"
      ],
      "execution_count": null,
      "outputs": [
        {
          "output_type": "execute_result",
          "data": {
            "text/plain": [
              "4"
            ]
          },
          "metadata": {
            "tags": []
          },
          "execution_count": 7
        }
      ]
    },
    {
      "cell_type": "markdown",
      "metadata": {
        "id": "Ow6nG8k4l91X"
      },
      "source": [
        "**Q2. Lets consider you have two series like the below cell. Compute the mean of weights of each fruit.**"
      ]
    },
    {
      "cell_type": "code",
      "metadata": {
        "id": "u-X_DoOzVLLB"
      },
      "source": [
        "import numpy as np\n",
        "fruit = pd.Series(np.random.choice(['apple', 'banana', 'carrot'], 10))\n",
        "weights = pd.Series(np.linspace(1, 10, 10))"
      ],
      "execution_count": null,
      "outputs": []
    },
    {
      "cell_type": "code",
      "metadata": {
        "id": "S419nzYnpU__",
        "colab": {
          "base_uri": "https://localhost:8080/"
        },
        "outputId": "c9ba27b9-76d4-4339-bd80-f96491ddc5e7"
      },
      "source": [
        "# Type your solution here\n",
        "#copied from prompt, and named the 2 series\n",
        "import numpy as np\n",
        "fruit = pd.Series(np.random.choice(['apple', 'banana', 'carrot'], 10), name=\"fruit\")\n",
        "weights = pd.Series(np.linspace(1, 10, 10), name=\"weights\")\n",
        "\n",
        "#set fruit as DataFrame, and join weights to it\n",
        "fruit = pd.DataFrame(fruit)\n",
        "df = fruit.join(weights)\n",
        "#print dataframe for answer checking reference\n",
        "print(df, \"\\n\")\n",
        "\n",
        "#create function for finding mean weights of each fruit\n",
        "def meanWeightByFruit():\n",
        "  #initiate counting variables\n",
        "  appleCount = 0\n",
        "  bananaCount = 0\n",
        "  carrotCount = 0\n",
        "  appleWeight = 0\n",
        "  bananaWeight = 0\n",
        "  carrotWeight = 0\n",
        "  #use .index to loop\n",
        "  for i in df.index:\n",
        "    # if the index of fruit column is a particular fruit, add 1 to fruit count and add the weight to the fruit weight count\n",
        "    if df[\"fruit\"][i] == \"apple\":\n",
        "      appleCount+=1\n",
        "      appleWeight+=(df[\"weights\"][i])\n",
        "    elif df[\"fruit\"][i] == \"banana\":\n",
        "      bananaCount+=1\n",
        "      bananaWeight+=(df[\"weights\"][i])\n",
        "    elif df[\"fruit\"][i] == \"carrot\":\n",
        "      carrotCount+=1\n",
        "      carrotWeight+=(df[\"weights\"][i])\n",
        "\n",
        "  #calculate mean by taking total weight divided by number of fruits\n",
        "  if appleCount > 0:\n",
        "    appleMean = appleWeight/appleCount\n",
        "  else:\n",
        "    appleMean = 0\n",
        "\n",
        "  if bananaCount > 0:\n",
        "    bananaMean = bananaWeight/bananaCount\n",
        "  else:\n",
        "    bananaMean = 0\n",
        "  \n",
        "  if carrotCount > 0:\n",
        "    carrotMean = carrotWeight/carrotCount\n",
        "  else:\n",
        "    carrotMean = 0\n",
        "  #print results\n",
        "  print(\"Mean apple weight:\", appleMean)\n",
        "  print(\"Mean banana weight:\", bananaMean)\n",
        "  print(\"Mean carrot weight:\", carrotMean)\n",
        "meanWeightByFruit()\n",
        "\n",
        "\n",
        "\n"
      ],
      "execution_count": null,
      "outputs": [
        {
          "output_type": "stream",
          "text": [
            "    fruit  weights\n",
            "0   apple      1.0\n",
            "1   apple      2.0\n",
            "2  carrot      3.0\n",
            "3   apple      4.0\n",
            "4  banana      5.0\n",
            "5  carrot      6.0\n",
            "6   apple      7.0\n",
            "7  banana      8.0\n",
            "8  carrot      9.0\n",
            "9  banana     10.0 \n",
            "\n",
            "Mean apple weight: 3.5\n",
            "Mean banana weight: 7.666666666666667\n",
            "Mean carrot weight: 6.0\n"
          ],
          "name": "stdout"
        }
      ]
    },
    {
      "cell_type": "code",
      "metadata": {
        "id": "E4cTcYFx7yOP"
      },
      "source": [
        ""
      ],
      "execution_count": null,
      "outputs": []
    },
    {
      "cell_type": "markdown",
      "metadata": {
        "id": "g4lKaPIhtVrt"
      },
      "source": [
        "**Q3. Consider the below course_name array:**\n",
        "\n",
        "**Q3-1**: Write a NumPy program to get the indices of the sorted elements of **course_name** array.\n",
        "\n",
        "**Q3-2:** Write numpy code to check whether each element of **course_name** array starts with \"P\".\n"
      ]
    },
    {
      "cell_type": "code",
      "metadata": {
        "id": "RUP_jp2KtVrx"
      },
      "source": [
        "import numpy as np\n",
        "course_name = np.array(['Python', 'JS', 'examples', 'PHP', 'html'])"
      ],
      "execution_count": null,
      "outputs": []
    },
    {
      "cell_type": "code",
      "metadata": {
        "id": "U1i27POxv-o_",
        "colab": {
          "base_uri": "https://localhost:8080/"
        },
        "outputId": "072e56f0-c6c2-43da-bcbd-c92721be1ad5"
      },
      "source": [
        "# Type your solution here\n",
        "#Q3-1\n",
        "#convert course_name to list\n",
        "newList = course_name.tolist()\n",
        "#sort using argsort. TA Amulya mentioned that it is fine that the list does not sort alphabetically, since capital letters come before uncapitalized letters.\n",
        "sortList = np.argsort(newList)\n",
        "print(sortList)\n",
        "\n",
        "#Q3-2\n",
        "#check if each element starts with \"P\". Returns array with True if starts with \"P\" and false if not.\n",
        "startsWithP = np.char.startswith(course_name, \"P\")\n",
        "print(startsWithP)\n",
        "\n",
        "\n",
        "\n"
      ],
      "execution_count": null,
      "outputs": [
        {
          "output_type": "stream",
          "text": [
            "[1 3 0 2 4]\n",
            "[ True False False  True False]\n"
          ],
          "name": "stdout"
        }
      ]
    },
    {
      "cell_type": "markdown",
      "metadata": {
        "id": "sUFItNFOxwkz"
      },
      "source": [
        "**Q4. Consider the below student_id array:**\n",
        "\n",
        "**Q4-1:** Reverse the **student_id** array. Print both original and reversed array.\n",
        "\n",
        "**Q4-2:** Get the 3-largest values of **student_id** array."
      ]
    },
    {
      "cell_type": "code",
      "metadata": {
        "id": "Rl5qzEjFv0nw"
      },
      "source": [
        "import numpy as np\n",
        "student_id = np.array([1023, 5202, 6230, 1671, 1682, 5241, 4532]) #DONE IN CLASS B4"
      ],
      "execution_count": null,
      "outputs": []
    },
    {
      "cell_type": "code",
      "metadata": {
        "id": "EetvHGrUxMCC",
        "colab": {
          "base_uri": "https://localhost:8080/"
        },
        "outputId": "5c644d68-4c2d-4e33-bf83-262c54b0b4af"
      },
      "source": [
        "# Type your solution here\n",
        "#Q4-1\n",
        "#reverse student_id array, and print both original and reversed arrays\n",
        "rev_student_id = student_id[::-1]\n",
        "print(\"#Q4-1\")\n",
        "print(\"reversed array: \",rev_student_id)\n",
        "print(\"original array: \",student_id, \"\\n\")\n",
        "\n",
        "#Q4-2\n",
        "#sorted student_id and picked the 3 largest values from the sorted array\n",
        "sorted_student_id = np.sort(student_id)\n",
        "print(\"#Q4-2\")\n",
        "print(\"3 largest values: \",sorted_student_id[-1:-4:-1])"
      ],
      "execution_count": null,
      "outputs": [
        {
          "output_type": "stream",
          "text": [
            "#Q4-1\n",
            "reversed array:  [4532 5241 1682 1671 6230 5202 1023]\n",
            "original array:  [1023 5202 6230 1671 1682 5241 4532] \n",
            "\n",
            "#Q4-2\n",
            "3 largest values:  [6230 5241 5202]\n"
          ],
          "name": "stdout"
        }
      ]
    },
    {
      "cell_type": "markdown",
      "metadata": {
        "id": "uKRyDVuW6B19"
      },
      "source": [
        "**Q5: Write a numpy program to print sum of all the multiples of 3 or 5 below 100**"
      ]
    },
    {
      "cell_type": "code",
      "metadata": {
        "id": "ZIixq1gz6OK3",
        "colab": {
          "base_uri": "https://localhost:8080/"
        },
        "outputId": "e34de0d7-9c74-472b-a6c6-213cb763c707"
      },
      "source": [
        "# Type your solution here\n",
        "#use arange to create array of 0 to 99\n",
        "arr = np.arange(100)\n",
        "#isolate numbers that are multiples of 3 or 5\n",
        "index = np.where((arr%5==0)|(arr%3==0))\n",
        "#convert array to list\n",
        "getToList = 0\n",
        "for i in index:\n",
        "  getToList += i\n",
        "  #add up the numbers in the list\n",
        "  totalSum = 0\n",
        "  for e in getToList:\n",
        "    totalSum += e\n",
        "#print answer\n",
        "print(totalSum)\n"
      ],
      "execution_count": null,
      "outputs": [
        {
          "output_type": "stream",
          "text": [
            "2318\n"
          ],
          "name": "stdout"
        }
      ]
    },
    {
      "cell_type": "markdown",
      "metadata": {
        "id": "2CWJOsP24c34"
      },
      "source": [
        "**Q6. Consider the below array.**\n",
        "\n",
        "Q6.1. Write a code to swap column 1 with column 2.\n",
        "\n",
        "Q6.2. Write a code to swap row 0 with row 1."
      ]
    },
    {
      "cell_type": "code",
      "metadata": {
        "id": "3OG6X5Eg5KSM",
        "colab": {
          "base_uri": "https://localhost:8080/"
        },
        "outputId": "59a4077b-b120-4203-ea02-422d07b29384"
      },
      "source": [
        "import numpy as np\n",
        "\n",
        "arr = np.arange(12).reshape(3,4)\n",
        "print(arr)"
      ],
      "execution_count": null,
      "outputs": [
        {
          "output_type": "stream",
          "text": [
            "[[ 0  1  2  3]\n",
            " [ 4  5  6  7]\n",
            " [ 8  9 10 11]]\n"
          ],
          "name": "stdout"
        }
      ]
    },
    {
      "cell_type": "code",
      "metadata": {
        "id": "Q-Q91DpO5YYW",
        "colab": {
          "base_uri": "https://localhost:8080/"
        },
        "outputId": "60d5d62e-4cae-418c-8a8e-c23464283e4d"
      },
      "source": [
        "# Type your solution here\n",
        "#Q6.1\n",
        "#copy prompt\n",
        "import numpy as np \n",
        " \n",
        "arr = np.arange(12).reshape(3, 4) \n",
        "print(\"given array:\") \n",
        "print(arr, \"\\n\") \n",
        "\n",
        "#swap columns 1 and 2\n",
        "arr[:, [2, 1]] = arr[:, [1, 2]] \n",
        "print(\"Q6.1: after column swaps:\") \n",
        "print(arr, \"\\n\")\n",
        "\n"
      ],
      "execution_count": null,
      "outputs": [
        {
          "output_type": "stream",
          "text": [
            "given array:\n",
            "[[ 0  1  2  3]\n",
            " [ 4  5  6  7]\n",
            " [ 8  9 10 11]] \n",
            "\n",
            "Q6.1: after column swaps:\n",
            "[[ 0  2  1  3]\n",
            " [ 4  6  5  7]\n",
            " [ 8 10  9 11]] \n",
            "\n"
          ],
          "name": "stdout"
        }
      ]
    },
    {
      "cell_type": "code",
      "metadata": {
        "colab": {
          "base_uri": "https://localhost:8080/"
        },
        "id": "cyFag0amEQse",
        "outputId": "fcea4a18-d35f-413f-848b-077594c66703"
      },
      "source": [
        "#Q6.2\n",
        "#copy prompt\n",
        "import numpy as np \n",
        " \n",
        "arr = np.arange(12).reshape(3, 4) \n",
        "print(\"given array:\") \n",
        "print(arr, \"\\n\") \n",
        "\n",
        "#swap rows 0 and 1\n",
        "arr[[1, 0], :] = arr[[0, 1], :] \n",
        "print(\"Q6.2: after row swaps:\") \n",
        "print(arr)"
      ],
      "execution_count": null,
      "outputs": [
        {
          "output_type": "stream",
          "text": [
            "given array:\n",
            "[[ 0  1  2  3]\n",
            " [ 4  5  6  7]\n",
            " [ 8  9 10 11]] \n",
            "\n",
            "Q6.2: after row swaps:\n",
            "[[ 4  5  6  7]\n",
            " [ 0  1  2  3]\n",
            " [ 8  9 10 11]]\n"
          ],
          "name": "stdout"
        }
      ]
    }
  ]
}