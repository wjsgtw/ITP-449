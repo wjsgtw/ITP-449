{
  "nbformat": 4,
  "nbformat_minor": 0,
  "metadata": {
    "colab": {
      "name": "HW1_koh_wee jin.ipynb",
      "provenance": [],
      "collapsed_sections": []
    },
    "kernelspec": {
      "name": "python3",
      "display_name": "Python 3"
    }
  },
  "cells": [
    {
      "cell_type": "markdown",
      "metadata": {
        "id": "hm8RAKinXsIP"
      },
      "source": [
        "## **Homework 1**\n",
        "\n",
        "### Create a copy of the notebook to start answering the questions. Name your notebook in the format HW1_lastname_firstname.ipynb to facilitate the grading process. \n",
        "\n",
        "### Answer all the questions, test your code to ensure there are no errors and the results are as expected. Once you have answered all the questions, save the final copy, then go to File-> click on Download.ipynb. Once the local copy has been downloaded, submit your file on Blackboard under the corresponding assignment section. Also provide us a link to your notebook during submission. \n",
        "\n",
        "### **The due date of this homework is 02/05/2021 (Friday).**\n",
        "\n",
        "### Please ensure you follow all the steps mentioned in the homework.\n",
        "\n",
        "### All the questions have a sample input and output to help you understand the question. Please note that your programs will be tested for other sets of inputs and outputs along with the sample provided. So test your code for other inputs.\n",
        "\n",
        "### You can submit your solutions any number of times until the deadline.\n"
      ]
    },
    {
      "cell_type": "markdown",
      "metadata": {
        "id": "vH2cl-j2-BbY"
      },
      "source": [
        "Wee Jin Koh, ITP 449"
      ]
    },
    {
      "cell_type": "markdown",
      "metadata": {
        "id": "uacFrEaZfcfq"
      },
      "source": [
        "##### Q1. Write a program that prompts the user to enter a password then prints the length of the password.\n",
        "\n",
        "```\n",
        "Enter your password: hello\n",
        "Your password is 5 long.\n",
        "```\n",
        "\n",
        "\n"
      ]
    },
    {
      "cell_type": "code",
      "metadata": {
        "id": "avPyES14ftCt",
        "colab": {
          "base_uri": "https://localhost:8080/"
        },
        "outputId": "e93e7d17-a9bc-4252-ceaf-26ed7bf10c5e"
      },
      "source": [
        "# Type solution here\n",
        "\n",
        "# finds the length of a password\n",
        "# input: password from user input\n",
        "# output: length of password\n",
        "def passLength():\n",
        "  #ask user for password, strip additional spaces\n",
        "  password = str(input(\"Enter your password: \")).strip()\n",
        "  #find length of the password\n",
        "  passwordLength = len(password) \n",
        "  print(\"Your password is\", passwordLength, \"long.\")\n",
        "  return\n",
        "passLength()"
      ],
      "execution_count": null,
      "outputs": [
        {
          "output_type": "stream",
          "text": [
            "Enter your password: Amuya\n",
            "Your password is 5 long.\n"
          ],
          "name": "stdout"
        }
      ]
    },
    {
      "cell_type": "markdown",
      "metadata": {
        "id": "ekh-kABuItli"
      },
      "source": [
        ""
      ]
    },
    {
      "cell_type": "markdown",
      "metadata": {
        "id": "K1yko-xUItU3"
      },
      "source": [
        ""
      ]
    },
    {
      "cell_type": "markdown",
      "metadata": {
        "id": "behD0j_Of2TW"
      },
      "source": [
        "##### Q2. Write a program that prompts the user to enter their full name then prints the number of characters in their name (do not count spaces).\n",
        "\n",
        "```\n",
        "What is your name? Amulya Katti\n",
        "Amulya Katti your name has 11 characters.\n",
        "```"
      ]
    },
    {
      "cell_type": "code",
      "metadata": {
        "id": "XSdIRjwlhSlu",
        "colab": {
          "base_uri": "https://localhost:8080/"
        },
        "outputId": "47b8900c-c421-406b-c52c-8f645bc194bc"
      },
      "source": [
        "# Type solution here\n",
        "\n",
        "# finds the number of characters in a name, excluding spaces\n",
        "#input: user's name\n",
        "#output: number of characters in the user's name\n",
        "def lettersInName():\n",
        "  #ask user for name, strip leading and trailing white space\n",
        "  name = str(input(\"What is your name? \")).strip() \n",
        "  letterCount = 0 #initialize empty variable\n",
        "  for i in name:\n",
        "    if i != \" \":\n",
        "      #add one to letterCount for each non-space character\n",
        "      letterCount += 1 \n",
        "  print(name, \"your name has\", letterCount, \"characters.\")\n",
        "  return\n",
        "lettersInName()"
      ],
      "execution_count": null,
      "outputs": [
        {
          "output_type": "stream",
          "text": [
            "What is your name? Amulya Ravi\n",
            "Amulya Ravi your name has 10 characters.\n"
          ],
          "name": "stdout"
        }
      ]
    },
    {
      "cell_type": "markdown",
      "metadata": {
        "id": "5KHOWF6FhVHV"
      },
      "source": [
        "##### Q3. Write a program that prompts the user to enter a month (as a number), then prints the name of the month and the number of days in that month. Ensure that the user inputs a valid month and handle any error cases.\n",
        "\n",
        "```\n",
        "Enter the month number: 9\n",
        "September has 30 days\n",
        "```"
      ]
    },
    {
      "cell_type": "code",
      "metadata": {
        "id": "KhS-SAEThyTG",
        "colab": {
          "base_uri": "https://localhost:8080/"
        },
        "outputId": "8858a9ae-ed21-47d0-922c-aeab719442dc"
      },
      "source": [
        "# Type solution here\n",
        "\n",
        "# find the number of days in a month\n",
        "# input: number representing the month\n",
        "# output: number of days in the month\n",
        "\n",
        "def daysInMonth():\n",
        "  #create dictionaries for number of days per month and the written form of each month number\n",
        "  months = {1: \"January\",2: \"February\",3: \"March\",4: \"April\",5: \"May\",6: \"June\",7: \"July\",8: \"August\",9: \"September\",10: \"October\",11: \"November\",12: \"December\"}\n",
        "  dataBase = {\"January\":30, \"February\": 28, \"March\": 31, \"April\": 30,\"May\": 31, \"June\": 30, \"July\": 31, \"August\": 31,\"September\": 30, \"October\": 31,\"November\": 30, \"December\": 31}\n",
        "\n",
        "  #ask user for month number\n",
        "  ask = int(input(\"Enter the month number: \"))\n",
        "  #error checking for non-month numbers\n",
        "  while ask > 12 or ask < 1:\n",
        "    print(\"Enter valid month number between 1 and 12, inclusive.\")\n",
        "    ask = int(input(\"Enter the month number: \"))\n",
        "  #leap year exclusive message\n",
        "  if ask == 2:\n",
        "    leapInvalid = True\n",
        "    while leapInvalid:\n",
        "      askLeap = str(input(\"Is this a leap year? (Y/N): \")).lower()\n",
        "      if askLeap == \"y\":\n",
        "        #add one more day to typical days in February\n",
        "        print(months[ask], \"has\", dataBase[months[ask]]+1, \"days\" )\n",
        "        leapInvalid = False\n",
        "        return\n",
        "      elif askLeap == \"n\":\n",
        "        print(months[ask], \"has\", dataBase[months[ask]], \"days\")\n",
        "        leapInvalid = False\n",
        "        return\n",
        "      else:\n",
        "        print(\"Enter a valid input of Y or N\")\n",
        "  #use dictionary indexing to display answer\n",
        "  print(months[ask], \"has\", dataBase[months[ask]], \"days\")\n",
        "  return\n",
        "daysInMonth()\n",
        "\n"
      ],
      "execution_count": null,
      "outputs": [
        {
          "output_type": "stream",
          "text": [
            "Enter the month number: 9\n",
            "September has 30 days\n"
          ],
          "name": "stdout"
        }
      ]
    },
    {
      "cell_type": "markdown",
      "metadata": {
        "id": "O7lnAdGlh6Xa"
      },
      "source": [
        "##### Q4. Write a program that prompts the user to enter a loan amount, annual interest rate, and number of years  for a car loan. Then calculate and print the monthly payment amount.\n",
        "\n",
        "Note:\n",
        "```\n",
        "PMT= [PV*i*((1+i)^n)]/((1+i)^n)-1\n",
        "```\n",
        "PMT is the monthly payment\n",
        "\n",
        "PV is the loan amount\n",
        "\n",
        "i is the interest rate per month in decimal form (interest rate percentage divided by 12)\n",
        "\n",
        "n is the number of months (term of the loan in months)\n",
        "\n",
        "```\n",
        "Loan Amount: 30000.00\n",
        "Annual Interest Rate: 4.00\n",
        "Years: 5\n",
        "Your monthly payment is: $552.50\n",
        "```"
      ]
    },
    {
      "cell_type": "code",
      "metadata": {
        "id": "p4B5JH5GiTs9",
        "colab": {
          "base_uri": "https://localhost:8080/"
        },
        "outputId": "d661a52f-29af-41c0-efcd-3473716d6a0a"
      },
      "source": [
        "# Type solution here\n",
        "# find the monthly car payment\n",
        "# input: loan amount, annual interest rate in percentage, years\n",
        "# output: monthly payment amount\n",
        "def loanCalc():\n",
        "  #user input of required information\n",
        "  PV = float(input(\"Loan Amount: \"))\n",
        "  intRate = float(input(\"Annual Interest Rate: \"))\n",
        "  years = float(input(\"Years: \"))\n",
        "  #calculate monthly rate in percent and number of months\n",
        "  i = intRate/12/100\n",
        "  n = years*12\n",
        "  #calculation of monthly payment and display rounded to two decimal places\n",
        "  PMT= (PV*i*((1+i)**n))/((1+i)**n-1)\n",
        "  print(\"Your monthly payment is: $\" + str(round(PMT,2)))\n",
        "loanCalc()"
      ],
      "execution_count": null,
      "outputs": [
        {
          "output_type": "stream",
          "text": [
            "Loan Amount: 30000\n",
            "Annual Interest Rate: 4\n",
            "Years: 5\n",
            "Your monthly payment is: $552.5\n"
          ],
          "name": "stdout"
        }
      ]
    },
    {
      "cell_type": "markdown",
      "metadata": {
        "id": "SjiolJKgiWV-"
      },
      "source": [
        "##### Q5. Write a program to that prompts the user to enter a string. Then check whether or not the string is a palindrome.\n",
        "\n",
        "```\n",
        "Enter a string: Madam\n",
        "Madam, is a palindrome!\n",
        "```"
      ]
    },
    {
      "cell_type": "code",
      "metadata": {
        "id": "F5_M934Ri0es",
        "colab": {
          "base_uri": "https://localhost:8080/"
        },
        "outputId": "35084ba6-6bbd-40ce-c8cf-514f5fb58cfc"
      },
      "source": [
        "# Type solution here\n",
        "# check if user input is palindrome\n",
        "# input: user input string\n",
        "# output: result for palindrome check\n",
        "def palindrome():\n",
        "  #ask user for string\n",
        "  askUser = str(input(\"Enter a string: \")).lower() \n",
        "  reversedString = \"\" #initiate empty string\n",
        "  for i in range(int(len(askUser))-1, -1, -1):\n",
        "    #append each letter of input string in reverse order to reversedString\n",
        "    reversedString += askUser[i]\n",
        "  #compare input string and reversed string. It is a palindrome if strings are identical \n",
        "  if reversedString == askUser: \n",
        "    print(askUser,\"is a palindrome!\")\n",
        "  else:\n",
        "    print(askUser,\"is not a palindrome!\")\n",
        "\n",
        "palindrome()\n"
      ],
      "execution_count": null,
      "outputs": [
        {
          "output_type": "stream",
          "text": [
            "Enter a string: Madam MadaM\n",
            "madam madam is a palindrome!\n"
          ],
          "name": "stdout"
        }
      ]
    },
    {
      "cell_type": "markdown",
      "metadata": {
        "id": "BLBD6n9vkJEu"
      },
      "source": [
        "##### Q6. Write a program to compute and print all possible combinations of change for \\$1. Denominations to be considered – quarter, dime, nickel, penny.\n",
        "\n",
        "Hint: Use nested loops (loops within loops for the various denominations of coins)\n",
        "\n",
        "```\n",
        "Change for $1:\n",
        "0 quarters, 0 dimes, 0 nickels, 100 pennies\n",
        "…\n",
        "4 quarters, 0 dimes, 0 nickels, 0 pennies\n",
        "```"
      ]
    },
    {
      "cell_type": "code",
      "metadata": {
        "id": "kAQsTjwDkZZ5",
        "colab": {
          "base_uri": "https://localhost:8080/"
        },
        "outputId": "268ecbf2-bee2-4a23-88be-9be3785829ea"
      },
      "source": [
        "# Type solution here\n",
        "# find possible change combinations for $1\n",
        "# input: none\n",
        "# output: possible change combinations for $1\n",
        "def coinChangeCombos():\n",
        "  print(\"Change for $1\")\n",
        "  count = 0\n",
        "  #initialize one dollar in cents\n",
        "  amtInCents = 100\n",
        "  #nested for loops starting with the biggest denomination.\n",
        "  for q in range(0,(int(amtInCents/25))+1):\n",
        "    #nested loop for decreasing denominations\n",
        "    if amtInCents%25 ==0:\n",
        "      rem25 = amtInCents - q*25\n",
        "    for d in range(0,(int(rem25/10))+1):\n",
        "      if rem25%10 ==0:\n",
        "        rem10 = rem25 - d*10\n",
        "      for n in range(0,(int(rem10/5))+1):\n",
        "        if rem10%5 ==0:\n",
        "          rem5 = rem10 - n*5\n",
        "        for p in range(0,rem5+1):\n",
        "          rem1 = rem5 - p*1\n",
        "          #return the function if the total change adds up to more than 100 cents\n",
        "          if q*25 + d*10 + n*5 + p*1 > amtInCents:\n",
        "            return\n",
        "          #print change combinations adding up to 100\n",
        "          if q*25 + d*10 + n*5 + p*1 == amtInCents:\n",
        "            print(q,\"quarters,\",d,\"dimes,\",n,\"nickels,\",p, \"pennies\")\n",
        "            count += 1\n",
        "  return count\n",
        "\n",
        "count = coinChangeCombos()\n",
        "print(count)"
      ],
      "execution_count": null,
      "outputs": [
        {
          "output_type": "stream",
          "text": [
            "Change for $1\n",
            "0 quarters, 0 dimes, 0 nickels, 100 pennies\n",
            "0 quarters, 0 dimes, 1 nickels, 95 pennies\n",
            "0 quarters, 0 dimes, 2 nickels, 90 pennies\n",
            "0 quarters, 0 dimes, 3 nickels, 85 pennies\n",
            "0 quarters, 0 dimes, 4 nickels, 80 pennies\n",
            "0 quarters, 0 dimes, 5 nickels, 75 pennies\n",
            "0 quarters, 0 dimes, 6 nickels, 70 pennies\n",
            "0 quarters, 0 dimes, 7 nickels, 65 pennies\n",
            "0 quarters, 0 dimes, 8 nickels, 60 pennies\n",
            "0 quarters, 0 dimes, 9 nickels, 55 pennies\n",
            "0 quarters, 0 dimes, 10 nickels, 50 pennies\n",
            "0 quarters, 0 dimes, 11 nickels, 45 pennies\n",
            "0 quarters, 0 dimes, 12 nickels, 40 pennies\n",
            "0 quarters, 0 dimes, 13 nickels, 35 pennies\n",
            "0 quarters, 0 dimes, 14 nickels, 30 pennies\n",
            "0 quarters, 0 dimes, 15 nickels, 25 pennies\n",
            "0 quarters, 0 dimes, 16 nickels, 20 pennies\n",
            "0 quarters, 0 dimes, 17 nickels, 15 pennies\n",
            "0 quarters, 0 dimes, 18 nickels, 10 pennies\n",
            "0 quarters, 0 dimes, 19 nickels, 5 pennies\n",
            "0 quarters, 0 dimes, 20 nickels, 0 pennies\n",
            "0 quarters, 1 dimes, 0 nickels, 90 pennies\n",
            "0 quarters, 1 dimes, 1 nickels, 85 pennies\n",
            "0 quarters, 1 dimes, 2 nickels, 80 pennies\n",
            "0 quarters, 1 dimes, 3 nickels, 75 pennies\n",
            "0 quarters, 1 dimes, 4 nickels, 70 pennies\n",
            "0 quarters, 1 dimes, 5 nickels, 65 pennies\n",
            "0 quarters, 1 dimes, 6 nickels, 60 pennies\n",
            "0 quarters, 1 dimes, 7 nickels, 55 pennies\n",
            "0 quarters, 1 dimes, 8 nickels, 50 pennies\n",
            "0 quarters, 1 dimes, 9 nickels, 45 pennies\n",
            "0 quarters, 1 dimes, 10 nickels, 40 pennies\n",
            "0 quarters, 1 dimes, 11 nickels, 35 pennies\n",
            "0 quarters, 1 dimes, 12 nickels, 30 pennies\n",
            "0 quarters, 1 dimes, 13 nickels, 25 pennies\n",
            "0 quarters, 1 dimes, 14 nickels, 20 pennies\n",
            "0 quarters, 1 dimes, 15 nickels, 15 pennies\n",
            "0 quarters, 1 dimes, 16 nickels, 10 pennies\n",
            "0 quarters, 1 dimes, 17 nickels, 5 pennies\n",
            "0 quarters, 1 dimes, 18 nickels, 0 pennies\n",
            "0 quarters, 2 dimes, 0 nickels, 80 pennies\n",
            "0 quarters, 2 dimes, 1 nickels, 75 pennies\n",
            "0 quarters, 2 dimes, 2 nickels, 70 pennies\n",
            "0 quarters, 2 dimes, 3 nickels, 65 pennies\n",
            "0 quarters, 2 dimes, 4 nickels, 60 pennies\n",
            "0 quarters, 2 dimes, 5 nickels, 55 pennies\n",
            "0 quarters, 2 dimes, 6 nickels, 50 pennies\n",
            "0 quarters, 2 dimes, 7 nickels, 45 pennies\n",
            "0 quarters, 2 dimes, 8 nickels, 40 pennies\n",
            "0 quarters, 2 dimes, 9 nickels, 35 pennies\n",
            "0 quarters, 2 dimes, 10 nickels, 30 pennies\n",
            "0 quarters, 2 dimes, 11 nickels, 25 pennies\n",
            "0 quarters, 2 dimes, 12 nickels, 20 pennies\n",
            "0 quarters, 2 dimes, 13 nickels, 15 pennies\n",
            "0 quarters, 2 dimes, 14 nickels, 10 pennies\n",
            "0 quarters, 2 dimes, 15 nickels, 5 pennies\n",
            "0 quarters, 2 dimes, 16 nickels, 0 pennies\n",
            "0 quarters, 3 dimes, 0 nickels, 70 pennies\n",
            "0 quarters, 3 dimes, 1 nickels, 65 pennies\n",
            "0 quarters, 3 dimes, 2 nickels, 60 pennies\n",
            "0 quarters, 3 dimes, 3 nickels, 55 pennies\n",
            "0 quarters, 3 dimes, 4 nickels, 50 pennies\n",
            "0 quarters, 3 dimes, 5 nickels, 45 pennies\n",
            "0 quarters, 3 dimes, 6 nickels, 40 pennies\n",
            "0 quarters, 3 dimes, 7 nickels, 35 pennies\n",
            "0 quarters, 3 dimes, 8 nickels, 30 pennies\n",
            "0 quarters, 3 dimes, 9 nickels, 25 pennies\n",
            "0 quarters, 3 dimes, 10 nickels, 20 pennies\n",
            "0 quarters, 3 dimes, 11 nickels, 15 pennies\n",
            "0 quarters, 3 dimes, 12 nickels, 10 pennies\n",
            "0 quarters, 3 dimes, 13 nickels, 5 pennies\n",
            "0 quarters, 3 dimes, 14 nickels, 0 pennies\n",
            "0 quarters, 4 dimes, 0 nickels, 60 pennies\n",
            "0 quarters, 4 dimes, 1 nickels, 55 pennies\n",
            "0 quarters, 4 dimes, 2 nickels, 50 pennies\n",
            "0 quarters, 4 dimes, 3 nickels, 45 pennies\n",
            "0 quarters, 4 dimes, 4 nickels, 40 pennies\n",
            "0 quarters, 4 dimes, 5 nickels, 35 pennies\n",
            "0 quarters, 4 dimes, 6 nickels, 30 pennies\n",
            "0 quarters, 4 dimes, 7 nickels, 25 pennies\n",
            "0 quarters, 4 dimes, 8 nickels, 20 pennies\n",
            "0 quarters, 4 dimes, 9 nickels, 15 pennies\n",
            "0 quarters, 4 dimes, 10 nickels, 10 pennies\n",
            "0 quarters, 4 dimes, 11 nickels, 5 pennies\n",
            "0 quarters, 4 dimes, 12 nickels, 0 pennies\n",
            "0 quarters, 5 dimes, 0 nickels, 50 pennies\n",
            "0 quarters, 5 dimes, 1 nickels, 45 pennies\n",
            "0 quarters, 5 dimes, 2 nickels, 40 pennies\n",
            "0 quarters, 5 dimes, 3 nickels, 35 pennies\n",
            "0 quarters, 5 dimes, 4 nickels, 30 pennies\n",
            "0 quarters, 5 dimes, 5 nickels, 25 pennies\n",
            "0 quarters, 5 dimes, 6 nickels, 20 pennies\n",
            "0 quarters, 5 dimes, 7 nickels, 15 pennies\n",
            "0 quarters, 5 dimes, 8 nickels, 10 pennies\n",
            "0 quarters, 5 dimes, 9 nickels, 5 pennies\n",
            "0 quarters, 5 dimes, 10 nickels, 0 pennies\n",
            "0 quarters, 6 dimes, 0 nickels, 40 pennies\n",
            "0 quarters, 6 dimes, 1 nickels, 35 pennies\n",
            "0 quarters, 6 dimes, 2 nickels, 30 pennies\n",
            "0 quarters, 6 dimes, 3 nickels, 25 pennies\n",
            "0 quarters, 6 dimes, 4 nickels, 20 pennies\n",
            "0 quarters, 6 dimes, 5 nickels, 15 pennies\n",
            "0 quarters, 6 dimes, 6 nickels, 10 pennies\n",
            "0 quarters, 6 dimes, 7 nickels, 5 pennies\n",
            "0 quarters, 6 dimes, 8 nickels, 0 pennies\n",
            "0 quarters, 7 dimes, 0 nickels, 30 pennies\n",
            "0 quarters, 7 dimes, 1 nickels, 25 pennies\n",
            "0 quarters, 7 dimes, 2 nickels, 20 pennies\n",
            "0 quarters, 7 dimes, 3 nickels, 15 pennies\n",
            "0 quarters, 7 dimes, 4 nickels, 10 pennies\n",
            "0 quarters, 7 dimes, 5 nickels, 5 pennies\n",
            "0 quarters, 7 dimes, 6 nickels, 0 pennies\n",
            "0 quarters, 8 dimes, 0 nickels, 20 pennies\n",
            "0 quarters, 8 dimes, 1 nickels, 15 pennies\n",
            "0 quarters, 8 dimes, 2 nickels, 10 pennies\n",
            "0 quarters, 8 dimes, 3 nickels, 5 pennies\n",
            "0 quarters, 8 dimes, 4 nickels, 0 pennies\n",
            "0 quarters, 9 dimes, 0 nickels, 10 pennies\n",
            "0 quarters, 9 dimes, 1 nickels, 5 pennies\n",
            "0 quarters, 9 dimes, 2 nickels, 0 pennies\n",
            "0 quarters, 10 dimes, 0 nickels, 0 pennies\n",
            "2 quarters, 0 dimes, 0 nickels, 50 pennies\n",
            "2 quarters, 0 dimes, 1 nickels, 45 pennies\n",
            "2 quarters, 0 dimes, 2 nickels, 40 pennies\n",
            "2 quarters, 0 dimes, 3 nickels, 35 pennies\n",
            "2 quarters, 0 dimes, 4 nickels, 30 pennies\n",
            "2 quarters, 0 dimes, 5 nickels, 25 pennies\n",
            "2 quarters, 0 dimes, 6 nickels, 20 pennies\n",
            "2 quarters, 0 dimes, 7 nickels, 15 pennies\n",
            "2 quarters, 0 dimes, 8 nickels, 10 pennies\n",
            "2 quarters, 0 dimes, 9 nickels, 5 pennies\n",
            "2 quarters, 0 dimes, 10 nickels, 0 pennies\n",
            "2 quarters, 1 dimes, 0 nickels, 40 pennies\n",
            "2 quarters, 1 dimes, 1 nickels, 35 pennies\n",
            "2 quarters, 1 dimes, 2 nickels, 30 pennies\n",
            "2 quarters, 1 dimes, 3 nickels, 25 pennies\n",
            "2 quarters, 1 dimes, 4 nickels, 20 pennies\n",
            "2 quarters, 1 dimes, 5 nickels, 15 pennies\n",
            "2 quarters, 1 dimes, 6 nickels, 10 pennies\n",
            "2 quarters, 1 dimes, 7 nickels, 5 pennies\n",
            "2 quarters, 1 dimes, 8 nickels, 0 pennies\n",
            "2 quarters, 2 dimes, 0 nickels, 30 pennies\n",
            "2 quarters, 2 dimes, 1 nickels, 25 pennies\n",
            "2 quarters, 2 dimes, 2 nickels, 20 pennies\n",
            "2 quarters, 2 dimes, 3 nickels, 15 pennies\n",
            "2 quarters, 2 dimes, 4 nickels, 10 pennies\n",
            "2 quarters, 2 dimes, 5 nickels, 5 pennies\n",
            "2 quarters, 2 dimes, 6 nickels, 0 pennies\n",
            "2 quarters, 3 dimes, 0 nickels, 20 pennies\n",
            "2 quarters, 3 dimes, 1 nickels, 15 pennies\n",
            "2 quarters, 3 dimes, 2 nickels, 10 pennies\n",
            "2 quarters, 3 dimes, 3 nickels, 5 pennies\n",
            "2 quarters, 3 dimes, 4 nickels, 0 pennies\n",
            "2 quarters, 4 dimes, 0 nickels, 10 pennies\n",
            "2 quarters, 4 dimes, 1 nickels, 5 pennies\n",
            "2 quarters, 4 dimes, 2 nickels, 0 pennies\n",
            "2 quarters, 5 dimes, 0 nickels, 0 pennies\n",
            "4 quarters, 0 dimes, 0 nickels, 0 pennies\n",
            "158\n"
          ],
          "name": "stdout"
        }
      ]
    },
    {
      "cell_type": "markdown",
      "metadata": {
        "id": "rUPDjYiIkbgs"
      },
      "source": [
        "##### Q7. Ask the user to enter two positive integers between 1 and 100. Read those integers. Then output a multiplication table of the first number times the second number. \n",
        "\n",
        "Note: You have to ensure the entered numbers are between 1 and 100 only.\n",
        "\n",
        "```\n",
        "Please enter an integer: 5\n",
        "Please enter another integer: 20\n",
        "5 x 1 = 5\n",
        "5 x 2 = 10\n",
        "5 x 3 = 15\n",
        "…\n",
        "5 x 20 = 100\n",
        "```"
      ]
    },
    {
      "cell_type": "code",
      "metadata": {
        "id": "Qg0Orv1klHzA",
        "colab": {
          "base_uri": "https://localhost:8080/"
        },
        "outputId": "6058f21b-06d7-4073-942f-beda44ceb854"
      },
      "source": [
        "# Type solution here\n",
        "# create multiplication table from two integers\n",
        "# input: none\n",
        "# output: possible change combinations for $1\n",
        "def timesTable():\n",
        "  #ask user for two integers\n",
        "  intOne = int(input(\"Please enter an integer: \"))\n",
        "  intTwo = int(input(\"Please enter another integer: \"))\n",
        "  #error checking for user input\n",
        "  while intOne > 100 or intOne<1 or intTwo > 100 or intTwo < 1:\n",
        "    print(\"Please enter values between 1 and 100 only.\")\n",
        "    intOne = int(input(\"Please enter an integer: \"))\n",
        "    intTwo = int(input(\"Please enter another integer: \"))\n",
        "  #loop through each number between 1 and the user's second integer\n",
        "  for i in range(1,intTwo+1):\n",
        "    #print result of each loop\n",
        "    result = intOne*i\n",
        "    print(intOne, \"x\", i, \"=\", result)\n",
        "  return\n",
        "timesTable()\n"
      ],
      "execution_count": null,
      "outputs": [
        {
          "output_type": "stream",
          "text": [
            "Please enter an integer: 122\n",
            "Please enter another integer: 1\n",
            "Please enter values between 1 and 100 only.\n",
            "Please enter an integer: 1\n",
            "Please enter another integer: 23\n",
            "1 x 1 = 1\n",
            "1 x 2 = 2\n",
            "1 x 3 = 3\n",
            "1 x 4 = 4\n",
            "1 x 5 = 5\n",
            "1 x 6 = 6\n",
            "1 x 7 = 7\n",
            "1 x 8 = 8\n",
            "1 x 9 = 9\n",
            "1 x 10 = 10\n",
            "1 x 11 = 11\n",
            "1 x 12 = 12\n",
            "1 x 13 = 13\n",
            "1 x 14 = 14\n",
            "1 x 15 = 15\n",
            "1 x 16 = 16\n",
            "1 x 17 = 17\n",
            "1 x 18 = 18\n",
            "1 x 19 = 19\n",
            "1 x 20 = 20\n",
            "1 x 21 = 21\n",
            "1 x 22 = 22\n",
            "1 x 23 = 23\n"
          ],
          "name": "stdout"
        }
      ]
    },
    {
      "cell_type": "markdown",
      "metadata": {
        "id": "SbnbPUPTlLD9"
      },
      "source": [
        "##### Q8. Write a program to ask the user to enter a password. Then check to see if it is a valid password based on these requirements -\n",
        "\n",
        "Must be at least 8 characters long\n",
        "\n",
        "Must contain both uppercase and lowercase letters\n",
        "\n",
        "Must contain at least one number between 0-9\n",
        "\n",
        "Must contain a special character -!,@,#,$\n",
        "\n",
        "If the password is not valid, ask the user to re-enter. This should continue until the user enters a valid password. After a valid password is entered, print Access Granted!\n",
        "\n",
        "```\n",
        "Please enter a password. Follow these requirements - \n",
        "a. Must be at least 8 characters long\n",
        "b. Must contain both uppercase and lowercase letters\n",
        "c. Must contain at least one number between 0-9\n",
        "d. Must contain a special character -!,@,#,$\n",
        "Password: HelloWorld1\n",
        "Invalid password. Try again!\n",
        "Password: Hello@World1\n",
        "Access Granted!\n",
        "```\n"
      ]
    },
    {
      "cell_type": "code",
      "metadata": {
        "id": "OXmZ177Rl-RV",
        "colab": {
          "base_uri": "https://localhost:8080/"
        },
        "outputId": "2900f327-33b2-4b6e-aea5-a5f07057a26c"
      },
      "source": [
        "# Type solution here\n",
        "# check password for validity rules\n",
        "# input: user password\n",
        "# output: message for invalid password and re-entry of password or success message for valid password\n",
        "def passCheck():\n",
        "  #user instructions\n",
        "  print(\"Please enter a password. Follow these requirements -\\n\"\n",
        "  \"a. Must be at least 8 characters long\\n\"\n",
        "  \"b. Must contain both uppercase and lowercase letters\\n\"\n",
        "  \"c. Must contain at least one number between 0-9\\n\"\n",
        "  \"d. Must contain a special character -!,@,#,$\")\n",
        "  #initiate isInvalid for while loop\n",
        "  isInvalid = True\n",
        "  #continue while loop unless isInvalid is designated False\n",
        "  while isInvalid:\n",
        "    #ask user for password\n",
        "    password = str(input(\"Password: \"))\n",
        "    #check password length\n",
        "    if len(password)<=8:\n",
        "      print(\"Invalid password. Try again!\")\n",
        "      isValid = True\n",
        "    #initiate counting variables\n",
        "    upperCount = 0\n",
        "    lowerCount = 0\n",
        "    numCount = 0\n",
        "    specCount = 0\n",
        "    #create list of special characters\n",
        "    specList = [\"!\", \"@\", \"#\", \"$\"]\n",
        "    #for each letter, add to count of its characteristic, i.e. lower, upper,\n",
        "    #special, number\n",
        "    for i in password:\n",
        "      if i.isupper():\n",
        "        upperCount +=1\n",
        "      if i.islower():\n",
        "        lowerCount +=1\n",
        "      if i.isdigit():\n",
        "        numCount += 1\n",
        "      if i in specList:\n",
        "        specCount += 1\n",
        "    #check for invalidity if any category does not have at least one letter\n",
        "    if upperCount < 1 or lowerCount < 1 or numCount < 1 or specCount < 1:\n",
        "      print(\"Invalid password. Try again!\")\n",
        "      isValid = True\n",
        "    #exit while loop for valid password\n",
        "    else:\n",
        "      print(\"Access Granted!\")\n",
        "      isInvalid = False\n",
        "  return\n",
        "passCheck()"
      ],
      "execution_count": null,
      "outputs": [
        {
          "output_type": "stream",
          "text": [
            "Please enter a password. Follow these requirements -\n",
            "a. Must be at least 8 characters long\n",
            "b. Must contain both uppercase and lowercase letters\n",
            "c. Must contain at least one number between 0-9\n",
            "d. Must contain a special character -!,@,#,$\n",
            "Password: a@!34345\n",
            "Invalid password. Try again!\n",
            "Invalid password. Try again!\n",
            "Password: A@!\n",
            "Invalid password. Try again!\n",
            "Invalid password. Try again!\n",
            "Password: Am@!2335\n",
            "Invalid password. Try again!\n",
            "Access Granted!\n"
          ],
          "name": "stdout"
        }
      ]
    },
    {
      "cell_type": "markdown",
      "metadata": {
        "id": "-0sdutTDnTKA"
      },
      "source": [
        "##### Q9. Given the score sheet of participants in a competition, you are required to find the runner-up score. You are given scores in a list. Find the score of the runner-up.\n",
        "\n",
        "```\n",
        "list1 - [2, 3, 6, 6, 5]\n",
        "runner_up - 5\n",
        "\n",
        "list2 - [1, 7, 5, 3, 10, 4, 5, 5, 6, 11]\n",
        "runner_up - 10\n",
        "```"
      ]
    },
    {
      "cell_type": "code",
      "metadata": {
        "id": "12YP9OaqpGRK",
        "colab": {
          "base_uri": "https://localhost:8080/"
        },
        "outputId": "69d7c31f-3d11-4a21-e360-9d820d414862"
      },
      "source": [
        "# Type solution here\n",
        "# find runner-up score in list\n",
        "# input: none\n",
        "# output: original list, runner-up score\n",
        "#create example lists\n",
        "def runnerUp():\n",
        "  list1 = [2,3,6,6,5]\n",
        "  list2 = [1,7,5,3,10,4,5,5,6,11]\n",
        "  #remove duplicated values in list\n",
        "  newList1 = list(set(list1))\n",
        "  newList2 = list(set(list2))\n",
        "  #print original list and second highest number from sorted new lists\n",
        "  print(\"list1 -\", list1)\n",
        "  print(\"runner_up -\", sorted(newList1)[-2])\n",
        "  print(\"\")\n",
        "  print(\"list2 -\", list2)\n",
        "  print(\"runner_up -\", sorted(newList2)[-2])\n",
        "runnerUp()\n"
      ],
      "execution_count": null,
      "outputs": [
        {
          "output_type": "stream",
          "text": [
            "list1 - [2, 3, 6, 6, 5]\n",
            "runner_up - 5\n",
            "\n",
            "list2 - [1, 7, 5, 3, 10, 4, 5, 5, 6, 11]\n",
            "runner_up - 10\n"
          ],
          "name": "stdout"
        }
      ]
    }
  ]
}