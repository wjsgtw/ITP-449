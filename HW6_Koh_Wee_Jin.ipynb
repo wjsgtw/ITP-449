{
  "nbformat": 4,
  "nbformat_minor": 0,
  "metadata": {
    "colab": {
      "name": "HW6_Koh_Wee Jin.ipynb",
      "provenance": [],
      "collapsed_sections": [],
      "toc_visible": true
    },
    "kernelspec": {
      "name": "python3",
      "display_name": "Python 3"
    },
    "language_info": {
      "name": "python"
    }
  },
  "cells": [
    {
      "cell_type": "markdown",
      "metadata": {
        "id": "gJL_nLkdHYDy"
      },
      "source": [
        "# Homework 6 (30 marks)\n",
        "Create a copy of the notebook to start answering the questions. Name your notebook in the format HW6_lastname_firstname.ipynb to facilitate the grading process.\n",
        "\n",
        "Answer all the questions, test your code to ensure there are no errors and the results are as expected. Once you have answered all the questions, save the final copy, then go to File-> click on Download.ipynb. Once the local copy has been downloaded, submit your file on Blackboard under the corresponding assignment section. Also provide us a link to your notebook during submission.\n",
        "\n",
        "NOTE: Please give the TAs the permission to access your notebooks through the links you have provided during submission.\n",
        "\n",
        "The due date of this homework is 04/09/2021 (Friday).\n",
        "\n",
        "Please ensure you follow all the steps mentioned in the homework.\n",
        "\n",
        "You can submit your solutions any number of times until the deadline.\n",
        "\n",
        "The datasets used in this homework can be found in the google drive link below -\n",
        "\n",
        "https://drive.google.com/drive/folders/1NxCh4X7u7wVo5aHojxjLNs9wC7B7zJhb?usp=sharing\n",
        "\n",
        "Follow the necessary steps to import data to test your code. You can use any method to read your data in the notebook. We will not be grading the methods you use. We will only grade the code from the point where you read the dataset into a pandas dataframe - (pd.read_csv('file_name'))"
      ]
    },
    {
      "cell_type": "markdown",
      "metadata": {
        "id": "Zp3D8wIOH4bR"
      },
      "source": [
        "Import all the libraries you require in the cell below.\n",
        "\n"
      ]
    },
    {
      "cell_type": "code",
      "metadata": {
        "id": "72EyvzqAH6G_"
      },
      "source": [
        "# Enter your code here\n",
        "import numpy as np\n",
        "import pandas as pd\n",
        "import matplotlib.pyplot as plt\n",
        "import seaborn as sns\n",
        "from sklearn.model_selection import train_test_split\n",
        "from sklearn import tree\n",
        "from sklearn.tree import DecisionTreeClassifier\n",
        "from sklearn import metrics"
      ],
      "execution_count": null,
      "outputs": []
    },
    {
      "cell_type": "markdown",
      "metadata": {
        "id": "TxCnZ-n3H0Wd"
      },
      "source": [
        "### 1. Build a classification model that predicts the edibility of mushrooms (class variable in the dataset). You have been provide with a dataset as a mushrooms.csv file. \n",
        "Here is a description of the attributes\n"
      ]
    },
    {
      "cell_type": "markdown",
      "metadata": {
        "id": "2WX2OwgOIHMd"
      },
      "source": [
        "Attribute description:\n",
        "1. cap-shape: bell=b,conical=c,convex=x,flat=f, knobbed=k,sunken=s \n",
        "2. cap-surface: fibrous=f,grooves=g,scaly=y,smooth=s \n",
        "3. cap-color: brown=n,buff=b,cinnamon=c,gray=g,green=r, pink=p,purple=u,red=e,white=w,yellow=y \n",
        "4. bruises?: bruises=t,no=f \n",
        "5. odor: almond=a,anise=l,creosote=c,fishy=y,foul=f, musty=m,none=n,pungent=p,spicy=s \n",
        "6. gill-attachment: attached=a,descending=d,free=f,notched=n \n",
        "7. gill-spacing: close=c,crowded=w,distant=d \n",
        "8. gill-size: broad=b,narrow=n \n",
        "9. gill-color: black=k,brown=n,buff=b,chocolate=h,gray=g, green=r,orange=o,pink=p,purple=u,red=e, white=w,yellow=y \n",
        "10. stalk-shape: enlarging=e,tapering=t \n",
        "11. stalk-root: bulbous=b,club=c,cup=u,equal=e, rhizomorphs=z,rooted=r,missing=? \n",
        "12. stalk-surface-above-ring: fibrous=f,scaly=y,silky=k,smooth=s \n",
        "13. stalk-surface-below-ring: fibrous=f,scaly=y,silky=k,smooth=s \n",
        "14. stalk-color-above-ring: brown=n,buff=b,cinnamon=c,gray=g,orange=o, pink=p,red=e,white=w,yellow=y \n",
        "15. stalk-color-below-ring: brown=n,buff=b,cinnamon=c,gray=g,orange=o, pink=p,red=e,white=w,yellow=y \n",
        "16. veil-type: partial=p,universal=u \n",
        "17. veil-color: brown=n,orange=o,white=w,yellow=y \n",
        "18. ring-number: none=n,one=o,two=t \n",
        "19. ring-type: cobwebby=c,evanescent=e,flaring=f,large=l, none=n,pendant=p,sheathing=s,zone=z \n",
        "20. spore-print-color: black=k,brown=n,buff=b,chocolate=h,green=r, orange=o,purple=u,white=w,yellow=y \n",
        "21. population: abundant=a,clustered=c,numerous=n, scattered=s,several=v,solitary=y \n",
        "22. habitat: grasses=g,leaves=l,meadows=m,paths=p, urban=u,waste=w,woods=d\n",
        "23. class: p = poisonous, e=edible\n"
      ]
    },
    {
      "cell_type": "markdown",
      "metadata": {
        "id": "LJeXdQymILSv"
      },
      "source": [
        "1. Build a classification tree. Random_state =2020. Training partition 0.7. stratify = y, max_depth = 6, use Entropy (8 marks)\n",
        "\n",
        "A. Read the dataset, explore it and determine what is the dependent variable (1 mark)\n",
        "\n",
        "B. Store the feature and target variable. (2 marks)\n",
        "\n",
        "C. Convert all categorical variables into dummy variables (1 mark)\n",
        "\n",
        "D. Partition the data into training and test sets (70/30) (1 mark)\n",
        "\n",
        "E. Fit the training data to a classification tree. (3 marks)"
      ]
    },
    {
      "cell_type": "code",
      "metadata": {
        "id": "Eme32RA0IKoR",
        "colab": {
          "base_uri": "https://localhost:8080/"
        },
        "outputId": "590735c9-b285-4cf7-b7b0-5e3d7d2cac57"
      },
      "source": [
        "# Enter your code here\n",
        "#1A\n",
        "df = pd.read_csv('mushrooms.csv')\n",
        "\n",
        "#exploration\n",
        "print(df.head())\n",
        "print(df.info())\n",
        "print(df.columns.values)\n",
        "print(df.isnull().sum())\n",
        "\n",
        "#The dependent variable should be class, because a combination all of the other attributes determine if the mushroom is poisonous or edible.\n"
      ],
      "execution_count": null,
      "outputs": [
        {
          "output_type": "stream",
          "text": [
            "  class cap-shape cap-surface  ... spore-print-color population habitat\n",
            "0     p         x           s  ...                 k          s       u\n",
            "1     e         x           s  ...                 n          n       g\n",
            "2     e         b           s  ...                 n          n       m\n",
            "3     p         x           y  ...                 k          s       u\n",
            "4     e         x           s  ...                 n          a       g\n",
            "\n",
            "[5 rows x 23 columns]\n",
            "<class 'pandas.core.frame.DataFrame'>\n",
            "RangeIndex: 8124 entries, 0 to 8123\n",
            "Data columns (total 23 columns):\n",
            " #   Column                    Non-Null Count  Dtype \n",
            "---  ------                    --------------  ----- \n",
            " 0   class                     8124 non-null   object\n",
            " 1   cap-shape                 8124 non-null   object\n",
            " 2   cap-surface               8124 non-null   object\n",
            " 3   cap-color                 8124 non-null   object\n",
            " 4   bruises                   8124 non-null   object\n",
            " 5   odor                      8124 non-null   object\n",
            " 6   gill-attachment           8124 non-null   object\n",
            " 7   gill-spacing              8124 non-null   object\n",
            " 8   gill-size                 8124 non-null   object\n",
            " 9   gill-color                8124 non-null   object\n",
            " 10  stalk-shape               8124 non-null   object\n",
            " 11  stalk-root                8124 non-null   object\n",
            " 12  stalk-surface-above-ring  8124 non-null   object\n",
            " 13  stalk-surface-below-ring  8124 non-null   object\n",
            " 14  stalk-color-above-ring    8124 non-null   object\n",
            " 15  stalk-color-below-ring    8124 non-null   object\n",
            " 16  veil-type                 8124 non-null   object\n",
            " 17  veil-color                8124 non-null   object\n",
            " 18  ring-number               8124 non-null   object\n",
            " 19  ring-type                 8124 non-null   object\n",
            " 20  spore-print-color         8124 non-null   object\n",
            " 21  population                8124 non-null   object\n",
            " 22  habitat                   8124 non-null   object\n",
            "dtypes: object(23)\n",
            "memory usage: 1.4+ MB\n",
            "None\n",
            "['class' 'cap-shape' 'cap-surface' 'cap-color' 'bruises' 'odor'\n",
            " 'gill-attachment' 'gill-spacing' 'gill-size' 'gill-color' 'stalk-shape'\n",
            " 'stalk-root' 'stalk-surface-above-ring' 'stalk-surface-below-ring'\n",
            " 'stalk-color-above-ring' 'stalk-color-below-ring' 'veil-type'\n",
            " 'veil-color' 'ring-number' 'ring-type' 'spore-print-color' 'population'\n",
            " 'habitat']\n",
            "class                       0\n",
            "cap-shape                   0\n",
            "cap-surface                 0\n",
            "cap-color                   0\n",
            "bruises                     0\n",
            "odor                        0\n",
            "gill-attachment             0\n",
            "gill-spacing                0\n",
            "gill-size                   0\n",
            "gill-color                  0\n",
            "stalk-shape                 0\n",
            "stalk-root                  0\n",
            "stalk-surface-above-ring    0\n",
            "stalk-surface-below-ring    0\n",
            "stalk-color-above-ring      0\n",
            "stalk-color-below-ring      0\n",
            "veil-type                   0\n",
            "veil-color                  0\n",
            "ring-number                 0\n",
            "ring-type                   0\n",
            "spore-print-color           0\n",
            "population                  0\n",
            "habitat                     0\n",
            "dtype: int64\n"
          ],
          "name": "stdout"
        }
      ]
    },
    {
      "cell_type": "code",
      "metadata": {
        "id": "HY9Zt2do9MnV",
        "colab": {
          "base_uri": "https://localhost:8080/"
        },
        "outputId": "87455207-3171-489a-a975-bae09d448eaf"
      },
      "source": [
        "#1B\n",
        "\n",
        "#store feature variables\n",
        "X = df.iloc[:,1:]\n",
        "\n",
        "#store target variable\n",
        "y = df.iloc[:,0]\n",
        "\n",
        "print(X)\n",
        "print(y)"
      ],
      "execution_count": null,
      "outputs": [
        {
          "output_type": "stream",
          "text": [
            "     cap-shape cap-surface cap-color  ... spore-print-color population habitat\n",
            "0            x           s         n  ...                 k          s       u\n",
            "1            x           s         y  ...                 n          n       g\n",
            "2            b           s         w  ...                 n          n       m\n",
            "3            x           y         w  ...                 k          s       u\n",
            "4            x           s         g  ...                 n          a       g\n",
            "...        ...         ...       ...  ...               ...        ...     ...\n",
            "8119         k           s         n  ...                 b          c       l\n",
            "8120         x           s         n  ...                 b          v       l\n",
            "8121         f           s         n  ...                 b          c       l\n",
            "8122         k           y         n  ...                 w          v       l\n",
            "8123         x           s         n  ...                 o          c       l\n",
            "\n",
            "[8124 rows x 22 columns]\n",
            "0       p\n",
            "1       e\n",
            "2       e\n",
            "3       p\n",
            "4       e\n",
            "       ..\n",
            "8119    e\n",
            "8120    e\n",
            "8121    e\n",
            "8122    p\n",
            "8123    e\n",
            "Name: class, Length: 8124, dtype: object\n"
          ],
          "name": "stdout"
        }
      ]
    },
    {
      "cell_type": "code",
      "metadata": {
        "colab": {
          "base_uri": "https://localhost:8080/"
        },
        "id": "cA9wLjU-UjoO",
        "outputId": "070d7c85-7ae0-4d8f-bab7-7ca8b116bcd6"
      },
      "source": [
        "#1C\n",
        "\n",
        "#convert categorical variables to dummy variables\n",
        "Xdummies = pd.get_dummies(X)\n",
        "print(Xdummies)\n"
      ],
      "execution_count": null,
      "outputs": [
        {
          "output_type": "stream",
          "text": [
            "      cap-shape_b  cap-shape_c  cap-shape_f  ...  habitat_p  habitat_u  habitat_w\n",
            "0               0            0            0  ...          0          1          0\n",
            "1               0            0            0  ...          0          0          0\n",
            "2               1            0            0  ...          0          0          0\n",
            "3               0            0            0  ...          0          1          0\n",
            "4               0            0            0  ...          0          0          0\n",
            "...           ...          ...          ...  ...        ...        ...        ...\n",
            "8119            0            0            0  ...          0          0          0\n",
            "8120            0            0            0  ...          0          0          0\n",
            "8121            0            0            1  ...          0          0          0\n",
            "8122            0            0            0  ...          0          0          0\n",
            "8123            0            0            0  ...          0          0          0\n",
            "\n",
            "[8124 rows x 117 columns]\n"
          ],
          "name": "stdout"
        }
      ]
    },
    {
      "cell_type": "code",
      "metadata": {
        "colab": {
          "base_uri": "https://localhost:8080/"
        },
        "id": "nFVXQJaRYHMu",
        "outputId": "3fe1fcb7-ff5f-4e4e-913b-e749e693531b"
      },
      "source": [
        "#1D\n",
        "\n",
        "#partition into training and test sets\n",
        "X_train, X_test, y_train, y_test = train_test_split(Xdummies, y, test_size=0.3, random_state=2020, stratify=y)\n",
        "\n",
        "print(X_train.shape)\n",
        "print(y_train.shape)\n",
        "print(X_test.shape)\n",
        "print(y_test.shape)"
      ],
      "execution_count": null,
      "outputs": [
        {
          "output_type": "stream",
          "text": [
            "(5686, 117)\n",
            "(5686,)\n",
            "(2438, 117)\n",
            "(2438,)\n"
          ],
          "name": "stdout"
        }
      ]
    },
    {
      "cell_type": "code",
      "metadata": {
        "colab": {
          "base_uri": "https://localhost:8080/"
        },
        "id": "GeZXpq4NY15i",
        "outputId": "ae0117fd-3839-4f77-c362-0e25f8df74a5"
      },
      "source": [
        "#1E\n",
        "\n",
        "#fit training data to classification tree\n",
        "dt = DecisionTreeClassifier(criterion='entropy', max_depth= 6)\n",
        "dt.fit(X_train, y_train)"
      ],
      "execution_count": null,
      "outputs": [
        {
          "output_type": "execute_result",
          "data": {
            "text/plain": [
              "DecisionTreeClassifier(ccp_alpha=0.0, class_weight=None, criterion='entropy',\n",
              "                       max_depth=6, max_features=None, max_leaf_nodes=None,\n",
              "                       min_impurity_decrease=0.0, min_impurity_split=None,\n",
              "                       min_samples_leaf=1, min_samples_split=2,\n",
              "                       min_weight_fraction_leaf=0.0, presort='deprecated',\n",
              "                       random_state=None, splitter='best')"
            ]
          },
          "metadata": {
            "tags": []
          },
          "execution_count": 6
        }
      ]
    },
    {
      "cell_type": "markdown",
      "metadata": {
        "id": "YB-2YFsOIUah"
      },
      "source": [
        "2. Print the confusion matrix. \n",
        "Also visualize the confusion matrix using plot_confusion_matrix from sklearn.metrics (3 marks)\n",
        "\n"
      ]
    },
    {
      "cell_type": "code",
      "metadata": {
        "id": "VFwyLKzcRjyY",
        "colab": {
          "base_uri": "https://localhost:8080/",
          "height": 313
        },
        "outputId": "f25bfe7b-de12-4ec5-db55-f300caa7fb5e"
      },
      "source": [
        "# Enter your code here\n",
        "y_test_pred = dt.predict(X_test)\n",
        "\n",
        "cf = metrics.confusion_matrix(y_test, y_test_pred)\n",
        "print(cf)\n",
        "\n",
        "metrics.plot_confusion_matrix(dt, X_test, y_test)\n",
        "plt.show()"
      ],
      "execution_count": null,
      "outputs": [
        {
          "output_type": "stream",
          "text": [
            "[[1263    0]\n",
            " [   3 1172]]\n"
          ],
          "name": "stdout"
        },
        {
          "output_type": "display_data",
          "data": {
            "image/png": "[encoded data removed]",
            "text/plain": [
              "<Figure size 432x288 with 2 Axes>"
            ]
          },
          "metadata": {
            "tags": [],
            "needs_background": "light"
          }
        }
      ]
    },
    {
      "cell_type": "markdown",
      "metadata": {
        "id": "yhdyvv48JFFd"
      },
      "source": [
        "3. Print the accuracy on the training partition?  (2 marks)\n"
      ]
    },
    {
      "cell_type": "code",
      "metadata": {
        "id": "WeQ9cOluRrL2",
        "colab": {
          "base_uri": "https://localhost:8080/"
        },
        "outputId": "958d4856-93e6-43a9-d873-d62b89215f86"
      },
      "source": [
        "# Enter your code here\n",
        "y_train_pred = dt.predict(X_train)\n",
        "print('Accuracy =', metrics.accuracy_score(y_train, y_train_pred))"
      ],
      "execution_count": null,
      "outputs": [
        {
          "output_type": "stream",
          "text": [
            "Accuracy = 1.0\n"
          ],
          "name": "stdout"
        }
      ]
    },
    {
      "cell_type": "markdown",
      "metadata": {
        "id": "_aH9TPFSJGv_"
      },
      "source": [
        "4. Print the accuracy on the test partition? (2 marks)\n"
      ]
    },
    {
      "cell_type": "code",
      "metadata": {
        "id": "U4eEWJCvRwSn",
        "colab": {
          "base_uri": "https://localhost:8080/"
        },
        "outputId": "9466aeab-aa4f-4263-9f78-e21b41a236b8"
      },
      "source": [
        "# Enter your code here\n",
        "print('Accuracy =', metrics.accuracy_score(y_test, y_test_pred))"
      ],
      "execution_count": null,
      "outputs": [
        {
          "output_type": "stream",
          "text": [
            "Accuracy = 0.9987694831829368\n"
          ],
          "name": "stdout"
        }
      ]
    },
    {
      "cell_type": "markdown",
      "metadata": {
        "id": "_cWbOP-3JIE0"
      },
      "source": [
        "5. Show the classification tree and save it (5 marks)\n"
      ]
    },
    {
      "cell_type": "code",
      "metadata": {
        "colab": {
          "base_uri": "https://localhost:8080/",
          "height": 683
        },
        "id": "uZCfOPguSvL5",
        "outputId": "44f24b71-eb15-48d4-e9aa-26cc58235c7e"
      },
      "source": [
        "# Enter your code here\n",
        "fn = Xdummies.columns\n",
        "\n",
        "plt.figure(figsize=(12,12))\n",
        "classList = list(map(str,dt.classes_.tolist()))\n",
        "a = tree.plot_tree(dt, feature_names=fn, class_names=classList, filled=True)\n",
        "plt.savefig('Mushroom Tree.png')\n",
        "plt.show()"
      ],
      "execution_count": null,
      "outputs": [
        {
          "output_type": "display_data",
          "data": {
            "image/png": "[encoded data removed]",
            "text/plain": [
              "<Figure size 864x864 with 1 Axes>"
            ]
          },
          "metadata": {
            "tags": [],
            "needs_background": "light"
          }
        }
      ]
    },
    {
      "cell_type": "markdown",
      "metadata": {
        "id": "a3fM0HMSJJl8"
      },
      "source": [
        "6. Find and print the top three most important features in your decision tree for determining toxicity. (4 marks)"
      ]
    },
    {
      "cell_type": "code",
      "metadata": {
        "colab": {
          "base_uri": "https://localhost:8080/"
        },
        "id": "2HsWb22XGljS",
        "outputId": "a524e308-958c-473e-a732-5b82da527a1a"
      },
      "source": [
        "# Enter your code here\n",
        "importance = pd.DataFrame(zip(X_train.columns, dt.feature_importances_))\n",
        "importance_sorted = importance.sort_values(1, ascending=False)\n",
        "print(\"Top 3 features by score:\")\n",
        "topThree = importance_sorted.iloc[:3]\n",
        "print(topThree.to_string(index=False, header=False))\n"
      ],
      "execution_count": null,
      "outputs": [
        {
          "output_type": "stream",
          "text": [
            "Top 3 features by score:\n",
            "       odor_n  0.527899\n",
            "    bruises_t  0.212695\n",
            " stalk-root_c  0.067373\n"
          ],
          "name": "stdout"
        }
      ]
    },
    {
      "cell_type": "markdown",
      "metadata": {
        "id": "uye7JohHJQmN"
      },
      "source": [
        "7. Classify the following mushroom. (6 marks)\n",
        "\n",
        "class\n",
        " : **?**\n",
        "\n",
        "cap-shape\n",
        ": **x**\n",
        "\n",
        "cap-surface\n",
        ": **s**\n",
        "\n",
        "cap-color\n",
        ": **n**\n",
        "\n",
        "bruises\n",
        ": **t**\n",
        "\n",
        "odor\n",
        ": **y**\n",
        "\n",
        "gill-attachment\n",
        ": **f**\n",
        "\n",
        "gill-spacing\n",
        ": **c**\n",
        "\n",
        "gill-size\n",
        ": **n**\n",
        "\n",
        "gill-color\n",
        ": **k**\n",
        "\n",
        "stalk-shape\n",
        ": **e**\n",
        "\n",
        "stalk-root\n",
        ": **e**\n",
        "\n",
        "stalk-surface-above-ring\n",
        ": **s**\n",
        "\n",
        "stalk-surface-below-ring\n",
        ": **s**\n",
        "\n",
        "stalk-color-above-ring\n",
        ": **w**\n",
        "\n",
        "stalk-color-below-ring\n",
        ": **w**\n",
        "\n",
        "veil-type\n",
        ": **p**\n",
        "\n",
        "veil-color\n",
        ": **w**\n",
        "\n",
        "ring-number\n",
        ": **o**\n",
        "\n",
        "ring-type\n",
        ": **p**\n",
        "\n",
        "spore-print-color\n",
        ": **r**\n",
        "\n",
        "population\n",
        ": **s**\n",
        "\n",
        "habitat\n",
        ": **u**\n",
        "\n"
      ]
    },
    {
      "cell_type": "code",
      "metadata": {
        "id": "jaLW4bhtSGjh",
        "colab": {
          "base_uri": "https://localhost:8080/",
          "height": 224
        },
        "outputId": "f205a1de-f53c-4342-d3f8-7562188a7b60"
      },
      "source": [
        "# Enter your code here\n",
        "columnNames = ['cap-shape', 'cap-surface','cap-color','bruises','odor','gill-attachment', 'gill-spacing', 'gill-size',\n",
        "               'gill-color','stalk-shape','stalk-root','stalk-surface-above-ring','stalk-surface-below-ring','stalk-color-above-ring',\n",
        "               'stalk-color-below-ring','veil-type','veil-color','ring-number','ring-type','spore-print-color','population','habitat']\n",
        "characteristics = [['x','s','n','t','y','f','c','n','k','e','e','s','s','w','w','p','w','o','p','r','s','u']]\n",
        "sampleMushroom = pd.DataFrame(characteristics,columns=columnNames)\n",
        "print(\"Sample given without dummy variables:\")\n",
        "print(sampleMushroom)\n",
        "\n",
        "#change sampleMushroom to a dummies version of the same shape as Xdummies from #1C since decision tree is based on the dummy variable columns\n",
        "\n",
        "#create copy of X, and append sampleMushroom to end\n",
        "X_copy = X.copy()\n",
        "X_copy.append(sampleMushroom, ignore_index=True)\n",
        "#create dummies for X_copy, and save the last row (which was appended) as sampleMushroom dummies\n",
        "XCopyDummies = pd.get_dummies(X_copy)\n",
        "sampleMushroomDummies = XCopyDummies.tail(1)\n",
        "\n",
        "print(\"Sample given with dummy variables:\")\n",
        "print(sampleMushroomDummies)\n",
        "\n",
        "#use predict to see if sample mushroom is edible or not\n",
        "pred = dt.predict(sampleMushroomDummies)\n",
        "print(\"Predicted outcome for sample mushroom is\",pred)\n",
        "'''The sample mushroom is predicted to be edible.'''"
      ],
      "execution_count": null,
      "outputs": [
        {
          "output_type": "stream",
          "text": [
            "Sample given without dummy variables:\n",
            "  cap-shape cap-surface cap-color  ... spore-print-color population habitat\n",
            "0         x           s         n  ...                 r          s       u\n",
            "\n",
            "[1 rows x 22 columns]\n",
            "Sample given with dummy variables:\n",
            "      cap-shape_b  cap-shape_c  cap-shape_f  ...  habitat_p  habitat_u  habitat_w\n",
            "8123            0            0            0  ...          0          0          0\n",
            "\n",
            "[1 rows x 117 columns]\n",
            "Predicted outcome for sample mushroom is ['e']\n"
          ],
          "name": "stdout"
        },
        {
          "output_type": "execute_result",
          "data": {
            "application/vnd.google.colaboratory.intrinsic+json": {
              "type": "string"
            },
            "text/plain": [
              "'The sample mushroom is predicted to be edible.'"
            ]
          },
          "metadata": {
            "tags": []
          },
          "execution_count": 12
        }
      ]
    }
  ]
}
